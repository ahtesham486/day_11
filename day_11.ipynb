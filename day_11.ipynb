{
 "cells": [
  {
   "cell_type": "markdown",
   "metadata": {},
   "source": [
    "# generators in pyhton "
   ]
  },
  {
   "cell_type": "code",
   "execution_count": 5,
   "metadata": {},
   "outputs": [
    {
     "name": "stdout",
     "output_type": "stream",
     "text": [
      "[0, 2, 4, 6, 8]\n"
     ]
    }
   ],
   "source": [
    "def function():\n",
    "  for i in range(10):\n",
    "   if i%2==0:\n",
    "    yield i\n",
    "\n",
    "nlis = []\n",
    "for i in function():\n",
    " nlis.append(i)\n",
    "print(nlis)"
   ]
  },
  {
   "cell_type": "code",
   "execution_count": 6,
   "metadata": {},
   "outputs": [
    {
     "name": "stdout",
     "output_type": "stream",
     "text": [
      "[0, 4, 8, 12, 16, 20, 24]\n"
     ]
    }
   ],
   "source": [
    "def func():\n",
    " for i in range(25):\n",
    "   if i%4==0:\n",
    "     yield i\n",
    "num_lis = []\n",
    "for i in func():\n",
    " num_lis.append(i)\n",
    "print(num_lis)"
   ]
  },
  {
   "cell_type": "code",
   "execution_count": 7,
   "metadata": {},
   "outputs": [
    {
     "name": "stdout",
     "output_type": "stream",
     "text": [
      "Hello, World!\n",
      "Hi, Python!\n",
      "Python is the most popular programming language.\n"
     ]
    }
   ],
   "source": [
    "def message():\n",
    " msg_one = 'Hello, World!'\n",
    " yield msg_one\n",
    " msg_two = 'Hi, Python!'\n",
    " yield msg_two\n",
    " msg_three = 'Python is the most popular programming language.'\n",
    " yield msg_three\n",
    "result = message()\n",
    "print(next(result))\n",
    "print(next(result))\n",
    "print(next(result))"
   ]
  },
  {
   "cell_type": "code",
   "execution_count": 8,
   "metadata": {},
   "outputs": [
    {
     "name": "stdout",
     "output_type": "stream",
     "text": [
      "[1.7309999999999999, 4.854, 8.154, 9.42, 18, 111, 5187]\n",
      "<generator object <genexpr> at 0x0000026C4BE3A670>\n"
     ]
    }
   ],
   "source": [
    "\n",
    "special_nums = [0.577, 1.618, 2.718, 3.14, 6, 37, 1729]\n",
    "list_comp = [i*3 for i in special_nums] # This is a list comprehension.\n",
    "generator_exp = (i*3 for i in special_nums) # This is a generator expression.\n",
    "print(list_comp)\n",
    "print(generator_exp)"
   ]
  },
  {
   "cell_type": "code",
   "execution_count": 9,
   "metadata": {},
   "outputs": [
    {
     "name": "stdout",
     "output_type": "stream",
     "text": [
      "[1.7309999999999999, 4.854, 8.154, 9.42, 18, 111, 5187]\n"
     ]
    }
   ],
   "source": [
    "special_nums = [0.577, 1.618, 2.718, 3.14, 6, 37, 1729]\n",
    "generator_exp = (i*3 for i in special_nums) # This is a generator expression.\n",
    "nums_list = []\n",
    "nums_list.append(next(generator_exp))\n",
    "nums_list.append(next(generator_exp))\n",
    "nums_list.append(next(generator_exp))\n",
    "nums_list.append(next(generator_exp))\n",
    "nums_list.append(next(generator_exp))\n",
    "nums_list.append(next(generator_exp))\n",
    "nums_list.append(next(generator_exp))\n",
    "print(nums_list)\n"
   ]
  },
  {
   "cell_type": "code",
   "execution_count": 10,
   "metadata": {},
   "outputs": [
    {
     "name": "stdout",
     "output_type": "stream",
     "text": [
      "[0, 20, 40, 60, 80, 100, 120, 140, 160, 180, 200]\n"
     ]
    }
   ],
   "source": [
    "def mult_table(n):\n",
    " for i in range(0, 11):\n",
    "  yield n*i\n",
    " i+=1\n",
    "mult_table_list = []\n",
    "for i in mult_table(20):\n",
    " mult_table_list.append(i)\n",
    "print(mult_table_list)"
   ]
  },
  {
   "cell_type": "code",
   "execution_count": 13,
   "metadata": {},
   "outputs": [
    {
     "name": "stdout",
     "output_type": "stream",
     "text": [
      "Memory in bytes with list comprehension is 12728.\n",
      "Memory in bytes with generator expression is 208.\n"
     ]
    }
   ],
   "source": [
    "import sys\n",
    "# List comprehension\n",
    "cubic_nums_lc = [i**3 for i in range(1500)]\n",
    "print(f'Memory in bytes with list comprehension is {sys.getsizeof(cubic_nums_lc)}.')\n",
    "# Generator expression of the same conditions\n",
    "cubic_nums_gc = (i**3 for i in range(1500))\n",
    "print(f'Memory in bytes with generator expression is {sys.getsizeof(cubic_nums_gc)}.')\n"
   ]
  },
  {
   "cell_type": "code",
   "execution_count": null,
   "metadata": {},
   "outputs": [],
   "source": [
    "# The follwing generator produces infinite numbers.\n",
    "\n",
    "def infinite():\n",
    " count = 0\n",
    " while True:\n",
    "  yield count\n",
    " count = count + 1\n",
    "for i in infinite():\n",
    " print(i)"
   ]
  },
  {
   "cell_type": "code",
   "execution_count": null,
   "metadata": {},
   "outputs": [
    {
     "name": "stdout",
     "output_type": "stream",
     "text": [
      "0\n",
      "1\n",
      "2\n",
      "3\n",
      "4\n",
      "5\n"
     ]
    },
    {
     "ename": "StopIteration",
     "evalue": "",
     "output_type": "error",
     "traceback": [
      "\u001b[1;31m---------------------------------------------------------------------------\u001b[0m",
      "\u001b[1;31mStopIteration\u001b[0m                             Traceback (most recent call last)",
      "\u001b[1;32mc:\\Users\\MS\\Desktop\\python basic\\day_11.ipynb Cell 10\u001b[0m line \u001b[0;36m1\n\u001b[0;32m      <a href='vscode-notebook-cell:/c%3A/Users/MS/Desktop/python%20basic/day_11.ipynb#X26sZmlsZQ%3D%3D?line=8'>9</a>\u001b[0m \u001b[39mprint\u001b[39m(\u001b[39mnext\u001b[39m(gen))\n\u001b[0;32m     <a href='vscode-notebook-cell:/c%3A/Users/MS/Desktop/python%20basic/day_11.ipynb#X26sZmlsZQ%3D%3D?line=9'>10</a>\u001b[0m \u001b[39mprint\u001b[39m(\u001b[39mnext\u001b[39m(gen))\n\u001b[1;32m---> <a href='vscode-notebook-cell:/c%3A/Users/MS/Desktop/python%20basic/day_11.ipynb#X26sZmlsZQ%3D%3D?line=10'>11</a>\u001b[0m \u001b[39mprint\u001b[39m(\u001b[39mnext\u001b[39;49m(gen))\n",
      "\u001b[1;31mStopIteration\u001b[0m: "
     ]
    }
   ],
   "source": [
    "def generator(a):\n",
    " for i in range(a):\n",
    "  yield i\n",
    "gen = generator(6)\n",
    "print(next(gen))\n",
    "print(next(gen))\n",
    "print(next(gen))\n",
    "print(next(gen))\n",
    "print(next(gen))\n",
    "print(next(gen))\n",
    "print(next(gen))"
   ]
  },
  {
   "cell_type": "code",
   "execution_count": 12,
   "metadata": {},
   "outputs": [
    {
     "name": "stdout",
     "output_type": "stream",
     "text": [
      "9107509825\n"
     ]
    }
   ],
   "source": [
    "\n",
    "def fibonacci(numbers):\n",
    " a, b = 0, 1\n",
    " for _ in range(numbers):\n",
    "   a , b = b, a+b\n",
    "   yield a\n",
    "def square(numbers):\n",
    " for i in numbers:\n",
    "  yield i**2\n",
    "print(sum(square(fibonacci(25))))\n"
   ]
  },
  {
   "cell_type": "code",
   "execution_count": null,
   "metadata": {},
   "outputs": [],
   "source": [
    "import math\n",
    "sum(i**i for i in range(6))"
   ]
  },
  {
   "cell_type": "code",
   "execution_count": null,
   "metadata": {},
   "outputs": [],
   "source": [
    "# Using generator comprehension\n",
    "square = (i**i for i in range(6))\n",
    "square_list = []\n",
    "square_list.append(next(square))\n",
    "square_list.append(next(square))\n",
    "square_list.append(next(square))\n",
    "square_list.append(next(square))\n",
    "square_list.append(next(square))\n",
    "square_list.append(next(square))\n",
    "print(f'The numbers using generator comprehension are {square_list}.')\n"
   ]
  },
  {
   "cell_type": "markdown",
   "metadata": {},
   "source": [
    "# the end"
   ]
  },
  {
   "cell_type": "code",
   "execution_count": null,
   "metadata": {},
   "outputs": [],
   "source": []
  },
  {
   "cell_type": "code",
   "execution_count": null,
   "metadata": {},
   "outputs": [],
   "source": []
  },
  {
   "cell_type": "code",
   "execution_count": null,
   "metadata": {},
   "outputs": [],
   "source": []
  },
  {
   "cell_type": "code",
   "execution_count": null,
   "metadata": {},
   "outputs": [],
   "source": []
  },
  {
   "cell_type": "code",
   "execution_count": null,
   "metadata": {},
   "outputs": [],
   "source": []
  },
  {
   "cell_type": "code",
   "execution_count": null,
   "metadata": {},
   "outputs": [],
   "source": []
  },
  {
   "cell_type": "code",
   "execution_count": null,
   "metadata": {},
   "outputs": [],
   "source": []
  },
  {
   "cell_type": "code",
   "execution_count": null,
   "metadata": {},
   "outputs": [],
   "source": []
  },
  {
   "cell_type": "code",
   "execution_count": null,
   "metadata": {},
   "outputs": [],
   "source": []
  },
  {
   "cell_type": "code",
   "execution_count": null,
   "metadata": {},
   "outputs": [],
   "source": []
  },
  {
   "cell_type": "code",
   "execution_count": null,
   "metadata": {},
   "outputs": [],
   "source": []
  },
  {
   "cell_type": "code",
   "execution_count": null,
   "metadata": {},
   "outputs": [],
   "source": []
  },
  {
   "cell_type": "code",
   "execution_count": null,
   "metadata": {},
   "outputs": [],
   "source": []
  },
  {
   "cell_type": "code",
   "execution_count": null,
   "metadata": {},
   "outputs": [],
   "source": []
  }
 ],
 "metadata": {
  "kernelspec": {
   "display_name": "Python 3",
   "language": "python",
   "name": "python3"
  },
  "language_info": {
   "codemirror_mode": {
    "name": "ipython",
    "version": 3
   },
   "file_extension": ".py",
   "mimetype": "text/x-python",
   "name": "python",
   "nbconvert_exporter": "python",
   "pygments_lexer": "ipython3",
   "version": "3.11.6"
  },
  "orig_nbformat": 4
 },
 "nbformat": 4,
 "nbformat_minor": 2
}
